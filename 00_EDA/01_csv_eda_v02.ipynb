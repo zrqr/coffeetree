{
 "cells": [
  {
   "cell_type": "markdown",
   "metadata": {},
   "source": [
    "# Exploratory Data Analysis - Coffee Tree V0.02"
   ]
  },
  {
   "cell_type": "code",
   "execution_count": 1,
   "metadata": {},
   "outputs": [
    {
     "name": "stdout",
     "output_type": "stream",
     "text": [
      "<class 'pandas.core.frame.DataFrame'>\n",
      "RangeIndex: 927 entries, 0 to 926\n",
      "Data columns (total 43 columns):\n",
      " #   Column                                   Non-Null Count  Dtype  \n",
      "---  ------                                   --------------  -----  \n",
      " 0   envio                                    927 non-null    object \n",
      " 1   laboratorio                              927 non-null    object \n",
      " 2   amostra                                  927 non-null    object \n",
      " 3   odor_do_po                               927 non-null    float64\n",
      " 4   odor_da_bebida_*                         718 non-null    float64\n",
      " 5   sabor_da_bebida_*                        927 non-null    float64\n",
      " 6   docura                                   927 non-null    float64\n",
      " 7   corpo                                    927 non-null    float64\n",
      " 8   acidez_intensidade                       927 non-null    float64\n",
      " 9   acidez_qualidade                         927 non-null    float64\n",
      " 10  amargor                                  927 non-null    float64\n",
      " 11  adstringencia                            927 non-null    float64\n",
      " 12  intensidade                              927 non-null    float64\n",
      " 13  alcoolico                                927 non-null    float64\n",
      " 14  cedro_carvalho_amadeirado                927 non-null    float64\n",
      " 15  amendoado_castanhas                      927 non-null    float64\n",
      " 16  animalico_curral                         927 non-null    float64\n",
      " 17  azedo                                    927 non-null    float64\n",
      " 18  baunilha                                 927 non-null    float64\n",
      " 19  borracha                                 927 non-null    float64\n",
      " 20  caramelizado_caramelo_doce               927 non-null    float64\n",
      " 21  cereal                                   927 non-null    float64\n",
      " 22  chocolate_cacau                          927 non-null    float64\n",
      " 23  cozido_assado                            927 non-null    float64\n",
      " 24  especiarias                              927 non-null    float64\n",
      " 25  fermentado                               927 non-null    float64\n",
      " 26  floral                                   927 non-null    float64\n",
      " 27  frutado                                  927 non-null    float64\n",
      " 28  iodoformio_quimico                       927 non-null    float64\n",
      " 29  madeira_papelao                          927 non-null    float64\n",
      " 30  mel                                      927 non-null    float64\n",
      " 31  queimado_defumado                        927 non-null    float64\n",
      " 32  terroso_mofo                             927 non-null    float64\n",
      " 33  tostado                                  927 non-null    float64\n",
      " 34  vegetal                                  927 non-null    float64\n",
      " 35  velho_oxidado                            927 non-null    float64\n",
      " 36  herbaceo                                 927 non-null    float64\n",
      " 37  verde                                    927 non-null    float64\n",
      " 38  qualidade_global_media_dada_pela_equipe  927 non-null    float64\n",
      " 39  fora_de_tipo_x_tipo_unico                927 non-null    object \n",
      " 40  categoria                                927 non-null    object \n",
      " 41  sigla_categoria                          927 non-null    object \n",
      " 42  ordem                                    927 non-null    object \n",
      "dtypes: float64(36), object(7)\n",
      "memory usage: 311.5+ KB\n"
     ]
    }
   ],
   "source": [
    "import pandas as pd\n",
    "from janitor import clean_names\n",
    "\n",
    "df = clean_names(pd.read_excel(\"data/raw/modelo_cafe_2024nov.xlsm\", sheet_name=\"TODOS DADOS\"))\n",
    "\n",
    "df.columns = [col.strip('_') for col in df.columns]\n",
    "\n",
    "df.info()"
   ]
  },
  {
   "cell_type": "markdown",
   "metadata": {},
   "source": [
    "## Observações da Aline\n",
    "\n",
    "Interessante não cnsiderar esses atributos:         \n",
    "    - `odor_da_bebida_*`;       \n",
    "    - `sabor_da_bebida_*`;     \n",
    "\n",
    "Target:     \n",
    "    - `qualidade_global_media_dada_pela_equipe`;     \n",
    "\n",
    "Identificação das amostras:     \n",
    "    - `laboratorio`;        \n",
    "    - `amostra`;        \n",
    "    - `fora_de_tipo_x_tipo_unico`;          \n",
    "    - `categoria`;      \n",
    "    - `sigla_categoria`;        \n",
    "\n",
    "Médias dos atributos:       \n",
    "    - `odor_do_po`;     \n",
    "    - `docura`;    \n",
    "    - `corpo`;     \n",
    "    - `acidez_intensidade`;     \n",
    "    - `acidez_qualidade`;     \n",
    "    - `amargor`;     \n",
    "    - `adstringencia`;     \n",
    "    - `intensidade`;      \n",
    "\n",
    "Mediana dos descritores:        \n",
    "    - `alcoolico`;     \n",
    "    - `cedro_carvalho_amadeirado`;     \n",
    "    - `amendoado_castanhas`;     \n",
    "    - `animalico_curral`;     \n",
    "    - `azedo`;     \n",
    "    - `baunilha`;     \n",
    "    - `borracha`;     \n",
    "    - `caramelizado_caramelo_doce`;     \n",
    "    - `cereal`;     \n",
    "    - `chocolate_cacau`;     \n",
    "    - `cozido_assado`;     \n",
    "    - `especiarias`;     \n",
    "    - `fermentado`;     \n",
    "    - `floral`;     \n",
    "    - `frutado`;     \n",
    "    - `iodoformio_quimico`;     \n",
    "    - `madeira_papelao`;     \n",
    "    - `mel`;     \n",
    "    - `queimado_defumado`;     \n",
    "    - `terroso_mofo`;     \n",
    "    - `tostado`;     \n",
    "    - `vegetal`;     \n",
    "    - `velho_oxidado`;     \n",
    "    - `verde`;      \n",
    "    - `herbaceo`;     \n"
   ]
  },
  {
   "cell_type": "markdown",
   "metadata": {},
   "source": [
    "# Análise de correlação"
   ]
  },
  {
   "cell_type": "code",
   "execution_count": 2,
   "metadata": {},
   "outputs": [
    {
     "data": {
      "text/html": [
       "<div>\n",
       "<style scoped>\n",
       "    .dataframe tbody tr th:only-of-type {\n",
       "        vertical-align: middle;\n",
       "    }\n",
       "\n",
       "    .dataframe tbody tr th {\n",
       "        vertical-align: top;\n",
       "    }\n",
       "\n",
       "    .dataframe thead th {\n",
       "        text-align: right;\n",
       "    }\n",
       "</style>\n",
       "<table border=\"1\" class=\"dataframe\">\n",
       "  <thead>\n",
       "    <tr style=\"text-align: right;\">\n",
       "      <th></th>\n",
       "      <th>odor_da_bebida_*</th>\n",
       "      <th>sabor_da_bebida_*</th>\n",
       "      <th>qualidade_global_media_dada_pela_equipe</th>\n",
       "    </tr>\n",
       "  </thead>\n",
       "  <tbody>\n",
       "    <tr>\n",
       "      <th>odor_da_bebida_*</th>\n",
       "      <td>1.000000</td>\n",
       "      <td>0.990853</td>\n",
       "      <td>0.988608</td>\n",
       "    </tr>\n",
       "    <tr>\n",
       "      <th>sabor_da_bebida_*</th>\n",
       "      <td>0.990853</td>\n",
       "      <td>1.000000</td>\n",
       "      <td>0.995081</td>\n",
       "    </tr>\n",
       "    <tr>\n",
       "      <th>qualidade_global_media_dada_pela_equipe</th>\n",
       "      <td>0.988608</td>\n",
       "      <td>0.995081</td>\n",
       "      <td>1.000000</td>\n",
       "    </tr>\n",
       "  </tbody>\n",
       "</table>\n",
       "</div>"
      ],
      "text/plain": [
       "                                         odor_da_bebida_*  sabor_da_bebida_*  \\\n",
       "odor_da_bebida_*                                 1.000000           0.990853   \n",
       "sabor_da_bebida_*                                0.990853           1.000000   \n",
       "qualidade_global_media_dada_pela_equipe          0.988608           0.995081   \n",
       "\n",
       "                                         qualidade_global_media_dada_pela_equipe  \n",
       "odor_da_bebida_*                                                        0.988608  \n",
       "sabor_da_bebida_*                                                       0.995081  \n",
       "qualidade_global_media_dada_pela_equipe                                 1.000000  "
      ]
     },
     "execution_count": 2,
     "metadata": {},
     "output_type": "execute_result"
    }
   ],
   "source": [
    "df[\n",
    "    [\n",
    "        \"odor_da_bebida_*\",\n",
    "        \"sabor_da_bebida_*\",\n",
    "        \"qualidade_global_media_dada_pela_equipe\",\n",
    "    ]\n",
    "].corr()"
   ]
  },
  {
   "cell_type": "markdown",
   "metadata": {},
   "source": [
    "# Seleção de atributos"
   ]
  },
  {
   "cell_type": "code",
   "execution_count": 3,
   "metadata": {},
   "outputs": [],
   "source": [
    "df_model = df[\n",
    "    [\n",
    "        # Target\n",
    "        \"qualidade_global_media_dada_pela_equipe\",\n",
    "        # Classificação de laboratórios\n",
    "        \"laboratorio\",\n",
    "        \"fora_de_tipo_x_tipo_unico\",\n",
    "        # Médias dos atributos\n",
    "        \"odor_do_po\",\n",
    "        \"docura\",\n",
    "        \"corpo\",\n",
    "        \"acidez_intensidade\",\n",
    "        \"acidez_qualidade\",\n",
    "        \"amargor\",\n",
    "        \"adstringencia\",\n",
    "        \"intensidade\",\n",
    "        # Mediana dos descritores\n",
    "        \"alcoolico\",\n",
    "        \"cedro_carvalho_amadeirado\",\n",
    "        \"amendoado_castanhas\",\n",
    "        \"animalico_curral\",\n",
    "        \"azedo\",\n",
    "        \"baunilha\",\n",
    "        \"borracha\",\n",
    "        \"caramelizado_caramelo_doce\",\n",
    "        \"cereal\",\n",
    "        \"chocolate_cacau\",\n",
    "        \"cozido_assado\",\n",
    "        \"especiarias\",\n",
    "        \"fermentado\",\n",
    "        \"floral\",\n",
    "        \"frutado\",\n",
    "        \"iodoformio_quimico\",\n",
    "        \"madeira_papelao\",\n",
    "        \"mel\",\n",
    "        \"queimado_defumado\",\n",
    "        \"terroso_mofo\",\n",
    "        \"tostado\",\n",
    "        \"vegetal\",\n",
    "        \"velho_oxidado\",\n",
    "        \"verde\", \n",
    "        \"herbaceo\",\n",
    "    ]\n",
    "]"
   ]
  },
  {
   "cell_type": "markdown",
   "metadata": {},
   "source": [
    "## Tratamento da coluna fora_de_tipo_x_tipo_unico"
   ]
  },
  {
   "cell_type": "code",
   "execution_count": 4,
   "metadata": {},
   "outputs": [],
   "source": [
    "df_model.loc[:, \"fora_de_tipo_x_tipo_unico\"] = (\n",
    "    df_model[\"fora_de_tipo_x_tipo_unico\"]\n",
    "    .str.lower()\n",
    "    .str.replace(\" \", \"_\")\n",
    "    .str.normalize(\"NFKD\")\n",
    "    .str.encode(\"ascii\", errors=\"ignore\")\n",
    "    .str.decode(\"utf-8\")\n",
    ")"
   ]
  },
  {
   "cell_type": "markdown",
   "metadata": {},
   "source": [
    "# Análise de multicolinearidade"
   ]
  },
  {
   "cell_type": "code",
   "execution_count": 5,
   "metadata": {},
   "outputs": [
    {
     "name": "stdout",
     "output_type": "stream",
     "text": [
      "Fatores de Inflação da Variância (VIF):\n",
      "VIF > 10 indica alta multicolinearidade\n",
      "\n",
      "                        Feature         VIF\n",
      "2                        corpo  743.864287\n",
      "4             acidez_qualidade  606.145686\n",
      "3           acidez_intensidade  395.047984\n",
      "6                adstringencia  347.605268\n",
      "1                       docura  316.957193\n",
      "5                      amargor  315.737485\n",
      "0                   odor_do_po  276.542435\n",
      "7                  intensidade  123.415364\n",
      "22                     frutado    6.939547\n",
      "15  caramelizado_caramelo_doce    6.115461\n",
      "24             madeira_papelao    5.097204\n",
      "30               velho_oxidado    3.843020\n",
      "10         amendoado_castanhas    3.012181\n",
      "26           queimado_defumado    2.942400\n",
      "17             chocolate_cacau    2.442214\n",
      "28                     tostado    1.991756\n",
      "25                         mel    1.746509\n",
      "14                    borracha    1.544714\n",
      "13                    baunilha    1.530696\n",
      "9    cedro_carvalho_amadeirado    1.410160\n",
      "20                  fermentado    1.404820\n",
      "31                       verde    1.366321\n",
      "27                terroso_mofo    1.350734\n",
      "21                      floral    1.325967\n",
      "16                      cereal    1.301075\n",
      "23          iodoformio_quimico    1.271277\n",
      "29                     vegetal    1.174418\n",
      "12                       azedo    1.148209\n",
      "8                    alcoolico    1.137216\n",
      "11            animalico_curral    1.110314\n",
      "32                    herbaceo    1.106202\n",
      "19                 especiarias    1.105942\n",
      "18               cozido_assado    1.082613\n"
     ]
    }
   ],
   "source": [
    "# Análise de VIF (Variance Inflation Factor)\n",
    "from statsmodels.stats.outliers_influence import variance_inflation_factor\n",
    "\n",
    "# Separar features e target, usando apenas variáveis numéricas\n",
    "X = df_model.select_dtypes(include=[\"float64\", \"int64\"]).drop(\n",
    "    \"qualidade_global_media_dada_pela_equipe\", axis=1\n",
    ")\n",
    "y = df_model[\"qualidade_global_media_dada_pela_equipe\"]\n",
    "\n",
    "# Calcular VIF para cada feature\n",
    "vif_data = pd.DataFrame()\n",
    "vif_data[\"Feature\"] = X.columns\n",
    "vif_data[\"VIF\"] = [variance_inflation_factor(X.values, i) for i in range(X.shape[1])]\n",
    "\n",
    "# Ordenar por VIF em ordem decrescente\n",
    "vif_data = vif_data.sort_values(\"VIF\", ascending=False)\n",
    "\n",
    "# Mostrar resultados\n",
    "print(\"Fatores de Inflação da Variância (VIF):\")\n",
    "print(\"VIF > 10 indica alta multicolinearidade\")\n",
    "print(\"\\n\", vif_data)"
   ]
  },
  {
   "cell_type": "markdown",
   "metadata": {},
   "source": [
    "## Interpretação dos resultados\n",
    "\n",
    "1. **Variáveis com alta multicolinearidade (VIF > 10)**:\n",
    "   - As variáveis **_acidez_qualidade** (1333.37), **_acidez_intensidade** (1216.63) e **_amargor** (1044.73) possuem VIF extremamente altos, indicando que essas variáveis estão fortemente correlacionadas entre si ou com outras variáveis do modelo. Essa multicolinearidade pode fazer com que seja difícil distinguir o efeito individual de cada uma dessas variáveis sobre o desfecho, e pode causar instabilidade nos coeficientes estimados.\n",
    "   - O **_corpo** (919.10) e **_adstringencia** (895.62) também possuem VIF muito elevados, apontando para multicolinearidade significativa.\n",
    "\n",
    "2. **Variáveis com VIF entre 5 e 10**:\n",
    "   - Essas variáveis, como **_frutado_** (8.79), **_madeira_papelao_** (6.40), e **_caramelizado_caramelo_doce_** (5.54), apresentam uma multicolinearidade moderada. Embora não tão grave quanto as primeiras, essas variáveis ainda podem afetar a precisão das estimativas e devem ser monitoradas, pois um VIF acima de 5 já é considerado uma indicação de atenção.\n",
    "\n",
    "3. **Variáveis com baixa multicolinearidade (VIF < 5)**:\n",
    "   - A maioria das variáveis restantes, como **_velho_oxidado_** (4.73), **_queimado_defumado_** (4.14), e **_tostado_** (2.20), apresenta VIFs abaixo de 5, o que indica pouca ou nenhuma multicolinearidade preocupante. Estas variáveis estão relativamente bem comportadas no modelo.\n"
   ]
  },
  {
   "cell_type": "markdown",
   "metadata": {},
   "source": [
    "# Salvar o dataframe limpo\n"
   ]
  },
  {
   "cell_type": "code",
   "execution_count": 6,
   "metadata": {},
   "outputs": [],
   "source": [
    "df_model.to_parquet(\"data/processed/df_model_v02.parquet\")"
   ]
  },
  {
   "cell_type": "code",
   "execution_count": null,
   "metadata": {},
   "outputs": [],
   "source": []
  }
 ],
 "metadata": {
  "kernelspec": {
   "display_name": "cofeetree",
   "language": "python",
   "name": "python3"
  },
  "language_info": {
   "codemirror_mode": {
    "name": "ipython",
    "version": 3
   },
   "file_extension": ".py",
   "mimetype": "text/x-python",
   "name": "python",
   "nbconvert_exporter": "python",
   "pygments_lexer": "ipython3",
   "version": "3.11.8"
  }
 },
 "nbformat": 4,
 "nbformat_minor": 2
}
