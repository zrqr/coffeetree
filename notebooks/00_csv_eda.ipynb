{
 "cells": [
  {
   "cell_type": "markdown",
   "metadata": {},
   "source": [
    "# Exploratory Data Analysis - Coffee Tree"
   ]
  },
  {
   "cell_type": "code",
   "execution_count": 2,
   "metadata": {},
   "outputs": [
    {
     "name": "stdout",
     "output_type": "stream",
     "text": [
      "<class 'pandas.core.frame.DataFrame'>\n",
      "RangeIndex: 626 entries, 0 to 625\n",
      "Data columns (total 41 columns):\n",
      " #   Column                                    Non-Null Count  Dtype  \n",
      "---  ------                                    --------------  -----  \n",
      " 0   laboratorio                               626 non-null    object \n",
      " 1   amostra                                   626 non-null    object \n",
      " 2   odor_do_po                                626 non-null    float64\n",
      " 3   odor_da_bebida_*                          626 non-null    float64\n",
      " 4   sabor_da_bebida_*                         626 non-null    float64\n",
      " 5   _docura                                   626 non-null    float64\n",
      " 6   _corpo                                    626 non-null    float64\n",
      " 7   _acidez_intensidade                       626 non-null    float64\n",
      " 8   _acidez_qualidade                         626 non-null    float64\n",
      " 9   _amargor                                  626 non-null    float64\n",
      " 10  _adstringencia                            626 non-null    float64\n",
      " 11  _intensidade                              626 non-null    float64\n",
      " 12  _alcoolico_                               626 non-null    float64\n",
      " 13  _cedro_carvalho_amadeirado_               626 non-null    float64\n",
      " 14  _amendoado_castanhas_                     626 non-null    float64\n",
      " 15  _animalico_curral_                        626 non-null    float64\n",
      " 16  _azedo_                                   626 non-null    float64\n",
      " 17  _baunilha_                                626 non-null    float64\n",
      " 18  _borracha_                                626 non-null    float64\n",
      " 19  _caramelizado_caramelo_doce_              626 non-null    float64\n",
      " 20  _cereal_                                  626 non-null    float64\n",
      " 21  _chocolate_cacau_                         626 non-null    float64\n",
      " 22  _cozido_assado_                           626 non-null    float64\n",
      " 23  _especiarias_                             626 non-null    float64\n",
      " 24  _fermentado_                              626 non-null    float64\n",
      " 25  _floral_                                  626 non-null    float64\n",
      " 26  _frutado_                                 626 non-null    float64\n",
      " 27  _iodoformio_quimico_                      626 non-null    float64\n",
      " 28  _madeira_papelao_                         626 non-null    float64\n",
      " 29  _mel_                                     626 non-null    float64\n",
      " 30  _queimado_defumado_                       626 non-null    float64\n",
      " 31  _terroso_mofo_                            626 non-null    float64\n",
      " 32  _tostado_                                 626 non-null    float64\n",
      " 33  _vegetal_                                 626 non-null    float64\n",
      " 34  _velho_oxidado_                           626 non-null    float64\n",
      " 35  _verde_herbaceo_                          626 non-null    float64\n",
      " 36  qualidade_global_media_dada_pela_equipe_  626 non-null    float64\n",
      " 37  fora_de_tipo_x_tipo_unico                 626 non-null    object \n",
      " 38  categoria                                 626 non-null    object \n",
      " 39  sigla_categoria                           626 non-null    object \n",
      " 40  ordem                                     626 non-null    int64  \n",
      "dtypes: float64(35), int64(1), object(5)\n",
      "memory usage: 200.6+ KB\n"
     ]
    }
   ],
   "source": [
    "import pandas as pd\n",
    "from janitor import clean_names\n",
    "\n",
    "df = clean_names(pd.read_excel(\"data/raw/modelo_cafe_2024out.xlsm\", nrows=627))\n",
    "\n",
    "df.info()"
   ]
  },
  {
   "cell_type": "markdown",
   "metadata": {},
   "source": [
    "## Observações da Aline\n",
    "\n",
    "Interessante não cnsiderar esses atributos:         \n",
    "    - `odor_da_bebida_*`;       \n",
    "    - `sabor_da_bebida_*`;     \n",
    "\n",
    "Target:     \n",
    "    - `qualidade_global_media_dada_pela_equipe_`;     \n",
    "\n",
    "Identificação das amostras:     \n",
    "    - `laboratorio`;        \n",
    "    - `amostra`;        \n",
    "    - `fora_de_tipo_x_tipo_unico`;          \n",
    "    - `categoria`;      \n",
    "    - `sigla_categoria`;        \n",
    "\n",
    "Médias dos atributos:       \n",
    "    - `odor_do_po`;     \n",
    "    - `_docura;`;    \n",
    "    - `_corpo`;     \n",
    "    - `_acidez_intensidade`;     \n",
    "    - `_acidez_qualidade`;     \n",
    "    - `_amargor`;     \n",
    "    - `_adstringencia`;     \n",
    "    - `_intensidade`;      \n",
    "\n",
    "Mediana dos descritores:        \n",
    "    - `_alcoolico_`;     \n",
    "    - `_cedro_carvalho_amadeirado_`;     \n",
    "    - `_amendoado_castanhas_`;     \n",
    "    - `_animalico_curral_`;     \n",
    "    - `_azedo_`;     \n",
    "    - `_baunilha_`;     \n",
    "    - `_borracha_`;     \n",
    "    - `_caramelizado_caramelo_doce_`;     \n",
    "    - `_cereal_`;     \n",
    "    - `_chocolate_cacau_`;     \n",
    "    - `_cozido_assado_`;     \n",
    "    - `_especiarias_`;     \n",
    "    - `_fermentado_`;     \n",
    "    - `_floral_`;     \n",
    "    - `_frutado_`;     \n",
    "    - `_iodoformio_quimico_`;     \n",
    "    - `_madeira_papelao_`;     \n",
    "    - `_mel_`;     \n",
    "    - `_queimado_defumado_`;     \n",
    "    - `_terroso_mofo_`;     \n",
    "    - `_tostado_`;     \n",
    "    - `_vegetal_`;     \n",
    "    - `_velho_oxidado_`;     \n",
    "    - `_verde_herbaceo_`;     \n",
    "\n",
    "\n"
   ]
  },
  {
   "cell_type": "markdown",
   "metadata": {},
   "source": [
    "# Análise de correlação"
   ]
  },
  {
   "cell_type": "code",
   "execution_count": 3,
   "metadata": {},
   "outputs": [
    {
     "data": {
      "text/html": [
       "<div>\n",
       "<style scoped>\n",
       "    .dataframe tbody tr th:only-of-type {\n",
       "        vertical-align: middle;\n",
       "    }\n",
       "\n",
       "    .dataframe tbody tr th {\n",
       "        vertical-align: top;\n",
       "    }\n",
       "\n",
       "    .dataframe thead th {\n",
       "        text-align: right;\n",
       "    }\n",
       "</style>\n",
       "<table border=\"1\" class=\"dataframe\">\n",
       "  <thead>\n",
       "    <tr style=\"text-align: right;\">\n",
       "      <th></th>\n",
       "      <th>odor_da_bebida_*</th>\n",
       "      <th>sabor_da_bebida_*</th>\n",
       "      <th>qualidade_global_media_dada_pela_equipe_</th>\n",
       "    </tr>\n",
       "  </thead>\n",
       "  <tbody>\n",
       "    <tr>\n",
       "      <th>odor_da_bebida_*</th>\n",
       "      <td>1.000000</td>\n",
       "      <td>0.988710</td>\n",
       "      <td>0.981344</td>\n",
       "    </tr>\n",
       "    <tr>\n",
       "      <th>sabor_da_bebida_*</th>\n",
       "      <td>0.988710</td>\n",
       "      <td>1.000000</td>\n",
       "      <td>0.990458</td>\n",
       "    </tr>\n",
       "    <tr>\n",
       "      <th>qualidade_global_media_dada_pela_equipe_</th>\n",
       "      <td>0.981344</td>\n",
       "      <td>0.990458</td>\n",
       "      <td>1.000000</td>\n",
       "    </tr>\n",
       "  </tbody>\n",
       "</table>\n",
       "</div>"
      ],
      "text/plain": [
       "                                          odor_da_bebida_*  sabor_da_bebida_*  \\\n",
       "odor_da_bebida_*                                  1.000000           0.988710   \n",
       "sabor_da_bebida_*                                 0.988710           1.000000   \n",
       "qualidade_global_media_dada_pela_equipe_          0.981344           0.990458   \n",
       "\n",
       "                                          qualidade_global_media_dada_pela_equipe_  \n",
       "odor_da_bebida_*                                                          0.981344  \n",
       "sabor_da_bebida_*                                                         0.990458  \n",
       "qualidade_global_media_dada_pela_equipe_                                  1.000000  "
      ]
     },
     "execution_count": 3,
     "metadata": {},
     "output_type": "execute_result"
    }
   ],
   "source": [
    "df[\n",
    "    [\n",
    "        \"odor_da_bebida_*\",\n",
    "        \"sabor_da_bebida_*\",\n",
    "        \"qualidade_global_media_dada_pela_equipe_\",\n",
    "    ]\n",
    "].corr()"
   ]
  },
  {
   "cell_type": "markdown",
   "metadata": {},
   "source": [
    "# Seleção de atributos"
   ]
  },
  {
   "cell_type": "code",
   "execution_count": 4,
   "metadata": {},
   "outputs": [],
   "source": [
    "df_model = df[\n",
    "    [\n",
    "        # Target\n",
    "        \"qualidade_global_media_dada_pela_equipe_\",\n",
    "        # Classificação de laboratórios\n",
    "        \"laboratorio\",\n",
    "        \"fora_de_tipo_x_tipo_unico\",\n",
    "        # Médias dos atributos\n",
    "        \"odor_do_po\",\n",
    "        \"_docura\",\n",
    "        \"_corpo\",\n",
    "        \"_acidez_intensidade\",\n",
    "        \"_acidez_qualidade\",\n",
    "        \"_amargor\",\n",
    "        \"_adstringencia\",\n",
    "        \"_intensidade\",\n",
    "        # Mediana dos descritores\n",
    "        \"_alcoolico_\",\n",
    "        \"_cedro_carvalho_amadeirado_\",\n",
    "        \"_amendoado_castanhas_\",\n",
    "        \"_animalico_curral_\",\n",
    "        \"_azedo_\",\n",
    "        \"_baunilha_\",\n",
    "        \"_borracha_\",\n",
    "        \"_caramelizado_caramelo_doce_\",\n",
    "        \"_cereal_\",\n",
    "        \"_chocolate_cacau_\",\n",
    "        \"_cozido_assado_\",\n",
    "        \"_especiarias_\",\n",
    "        \"_fermentado_\",\n",
    "        \"_floral_\",\n",
    "        \"_frutado_\",\n",
    "        \"_iodoformio_quimico_\",\n",
    "        \"_madeira_papelao_\",\n",
    "        \"_mel_\",\n",
    "        \"_queimado_defumado_\",\n",
    "        \"_terroso_mofo_\",\n",
    "        \"_tostado_\",\n",
    "        \"_vegetal_\",\n",
    "        \"_velho_oxidado_\",\n",
    "        \"_verde_herbaceo_\",\n",
    "    ]\n",
    "]"
   ]
  },
  {
   "cell_type": "markdown",
   "metadata": {},
   "source": [
    "# Análise de multicolinearidade"
   ]
  },
  {
   "cell_type": "code",
   "execution_count": 5,
   "metadata": {},
   "outputs": [
    {
     "name": "stdout",
     "output_type": "stream",
     "text": [
      "Fatores de Inflação da Variância (VIF):\n",
      "VIF > 10 indica alta multicolinearidade\n",
      "\n",
      "                          Feature          VIF\n",
      "4              _acidez_qualidade  1333.365775\n",
      "3            _acidez_intensidade  1216.629423\n",
      "5                       _amargor  1044.731088\n",
      "2                         _corpo   919.100115\n",
      "6                 _adstringencia   895.623322\n",
      "7                   _intensidade   625.354660\n",
      "0                     odor_do_po   353.212952\n",
      "1                        _docura   267.123491\n",
      "22                     _frutado_     8.789442\n",
      "24             _madeira_papelao_     6.395278\n",
      "15  _caramelizado_caramelo_doce_     5.544807\n",
      "30               _velho_oxidado_     4.730044\n",
      "26           _queimado_defumado_     4.141044\n",
      "10         _amendoado_castanhas_     3.234078\n",
      "17             _chocolate_cacau_     2.916983\n",
      "28                     _tostado_     2.196520\n",
      "25                         _mel_     1.917277\n",
      "14                    _borracha_     1.697078\n",
      "31              _verde_herbaceo_     1.455776\n",
      "27                _terroso_mofo_     1.450465\n",
      "9    _cedro_carvalho_amadeirado_     1.439107\n",
      "13                    _baunilha_     1.438021\n",
      "21                      _floral_     1.344586\n",
      "23          _iodoformio_quimico_     1.291088\n",
      "16                      _cereal_     1.282597\n",
      "12                       _azedo_     1.261925\n",
      "8                    _alcoolico_     1.210605\n",
      "20                  _fermentado_     1.180304\n",
      "11            _animalico_curral_     1.159269\n",
      "29                     _vegetal_     1.147747\n",
      "18               _cozido_assado_     1.062854\n",
      "19                 _especiarias_     1.049007\n"
     ]
    }
   ],
   "source": [
    "# Análise de VIF (Variance Inflation Factor)\n",
    "from statsmodels.stats.outliers_influence import variance_inflation_factor\n",
    "\n",
    "# Separar features e target, usando apenas variáveis numéricas\n",
    "X = df_model.select_dtypes(include=[\"float64\", \"int64\"]).drop(\n",
    "    \"qualidade_global_media_dada_pela_equipe_\", axis=1\n",
    ")\n",
    "y = df_model[\"qualidade_global_media_dada_pela_equipe_\"]\n",
    "\n",
    "# Calcular VIF para cada feature\n",
    "vif_data = pd.DataFrame()\n",
    "vif_data[\"Feature\"] = X.columns\n",
    "vif_data[\"VIF\"] = [variance_inflation_factor(X.values, i) for i in range(X.shape[1])]\n",
    "\n",
    "# Ordenar por VIF em ordem decrescente\n",
    "vif_data = vif_data.sort_values(\"VIF\", ascending=False)\n",
    "\n",
    "# Mostrar resultados\n",
    "print(\"Fatores de Inflação da Variância (VIF):\")\n",
    "print(\"VIF > 10 indica alta multicolinearidade\")\n",
    "print(\"\\n\", vif_data)"
   ]
  },
  {
   "cell_type": "markdown",
   "metadata": {},
   "source": [
    "## Interpretação dos resultados\n",
    "\n",
    "1. **Variáveis com alta multicolinearidade (VIF > 10)**:\n",
    "   - As variáveis **_acidez_qualidade** (1333.37), **_acidez_intensidade** (1216.63) e **_amargor** (1044.73) possuem VIF extremamente altos, indicando que essas variáveis estão fortemente correlacionadas entre si ou com outras variáveis do modelo. Essa multicolinearidade pode fazer com que seja difícil distinguir o efeito individual de cada uma dessas variáveis sobre o desfecho, e pode causar instabilidade nos coeficientes estimados.\n",
    "   - O **_corpo** (919.10) e **_adstringencia** (895.62) também possuem VIF muito elevados, apontando para multicolinearidade significativa.\n",
    "\n",
    "2. **Variáveis com VIF entre 5 e 10**:\n",
    "   - Essas variáveis, como **_frutado_** (8.79), **_madeira_papelao_** (6.40), e **_caramelizado_caramelo_doce_** (5.54), apresentam uma multicolinearidade moderada. Embora não tão grave quanto as primeiras, essas variáveis ainda podem afetar a precisão das estimativas e devem ser monitoradas, pois um VIF acima de 5 já é considerado uma indicação de atenção.\n",
    "\n",
    "3. **Variáveis com baixa multicolinearidade (VIF < 5)**:\n",
    "   - A maioria das variáveis restantes, como **_velho_oxidado_** (4.73), **_queimado_defumado_** (4.14), e **_tostado_** (2.20), apresenta VIFs abaixo de 5, o que indica pouca ou nenhuma multicolinearidade preocupante. Estas variáveis estão relativamente bem comportadas no modelo.\n"
   ]
  },
  {
   "cell_type": "markdown",
   "metadata": {},
   "source": [
    "# Salvar o dataframe limpo\n"
   ]
  },
  {
   "cell_type": "code",
   "execution_count": null,
   "metadata": {},
   "outputs": [],
   "source": [
    "df_model.to_parquet(\"data/processed/df_model.parquet\")"
   ]
  },
  {
   "cell_type": "code",
   "execution_count": null,
   "metadata": {},
   "outputs": [],
   "source": []
  }
 ],
 "metadata": {
  "kernelspec": {
   "display_name": "cofeetree",
   "language": "python",
   "name": "python3"
  },
  "language_info": {
   "codemirror_mode": {
    "name": "ipython",
    "version": 3
   },
   "file_extension": ".py",
   "mimetype": "text/x-python",
   "name": "python",
   "nbconvert_exporter": "python",
   "pygments_lexer": "ipython3",
   "version": "3.11.8"
  }
 },
 "nbformat": 4,
 "nbformat_minor": 2
}
